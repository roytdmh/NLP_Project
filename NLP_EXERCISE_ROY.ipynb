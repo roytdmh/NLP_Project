{
 "cells": [
  {
   "cell_type": "markdown",
   "metadata": {
    "id": "Ez8Ja-EqCisB"
   },
   "source": [
    "## **Problem Statement**\n",
    "\n",
    "### **Introduction**\n",
    "Fake news has emerged as one of the most significant challenges of our time, severely impacting both online and offline discourse. Its proliferation poses a direct threat to the democratic processes and societal stability, particularly in the western world. The ability to accurately identify and reduce the spread of fake news is essential to maintaining informed public discourse and safeguarding democratic institutions.\n",
    "\n",
    "### **Problem Statement**\n",
    "The primary challenge addressed by this project is the automatic detection of fake news articles using machine learning and natural language processing (NLP) techniques. By developing a reliable model to classify news articles as either fake or real, we aim to contribute to the efforts to curb the spread of misinformation and enhance the quality of information available to the public.\n",
    "\n",
    "### **Aim of the Project**\n",
    "\n",
    "The aim of this project is to build a robust and accurate fake news detection system.\n",
    "\n",
    "### **How Does the Solution Solve the Problem?**\n",
    "\n",
    "The proposed solution involves developing a machine learning model that leverages NLP and deep learning techniques to classify news articles as fake or real, allowing users to input news articles and classify them as fake or real, thereby providing a valuable tool for combating misinformation.\n",
    "\n",
    "\n",
    "### **About the Dataset**\n",
    "\n",
    "The dataset used in this project contains labeled news articles, categorized as either fake or real. This dataset is essential for training and evaluating the machine learning models developed to detect fake news.\n",
    "\n",
    "### **Content**\n",
    "The dataset comprises rows and columns that represent various attributes of news articles, including their textual content and labels indicating whether they are fake or real. The dataset includes information on how it was acquired and the time period it represents, providing valuable context for the analysis.\n",
    "\n",
    "\n"
   ]
  },
  {
   "cell_type": "code",
   "execution_count": 2,
   "metadata": {},
   "outputs": [
    {
     "name": "stdout",
     "output_type": "stream",
     "text": [
      "Collecting spacyNote: you may need to restart the kernel to use updated packages.\n",
      "\n",
      "  Downloading spacy-3.7.5-cp311-cp311-win_amd64.whl.metadata (27 kB)\n",
      "Collecting spacy-legacy<3.1.0,>=3.0.11 (from spacy)\n",
      "  Downloading spacy_legacy-3.0.12-py2.py3-none-any.whl.metadata (2.8 kB)\n",
      "Collecting spacy-loggers<2.0.0,>=1.0.0 (from spacy)\n",
      "  Downloading spacy_loggers-1.0.5-py3-none-any.whl.metadata (23 kB)\n",
      "Collecting murmurhash<1.1.0,>=0.28.0 (from spacy)\n",
      "  Downloading murmurhash-1.0.10-cp311-cp311-win_amd64.whl.metadata (2.0 kB)\n",
      "Collecting cymem<2.1.0,>=2.0.2 (from spacy)\n",
      "  Downloading cymem-2.0.8-cp311-cp311-win_amd64.whl.metadata (8.6 kB)\n",
      "Collecting preshed<3.1.0,>=3.0.2 (from spacy)\n",
      "  Downloading preshed-3.0.9-cp311-cp311-win_amd64.whl.metadata (2.2 kB)\n",
      "Collecting thinc<8.3.0,>=8.2.2 (from spacy)\n",
      "  Downloading thinc-8.2.5-cp311-cp311-win_amd64.whl.metadata (15 kB)\n",
      "Collecting wasabi<1.2.0,>=0.9.1 (from spacy)\n",
      "  Downloading wasabi-1.1.3-py3-none-any.whl.metadata (28 kB)\n",
      "Collecting srsly<3.0.0,>=2.4.3 (from spacy)\n",
      "  Downloading srsly-2.4.8-cp311-cp311-win_amd64.whl.metadata (20 kB)\n",
      "Collecting catalogue<2.1.0,>=2.0.6 (from spacy)\n",
      "  Downloading catalogue-2.0.10-py3-none-any.whl.metadata (14 kB)\n",
      "Collecting weasel<0.5.0,>=0.1.0 (from spacy)\n",
      "  Downloading weasel-0.4.1-py3-none-any.whl.metadata (4.6 kB)\n",
      "Collecting typer<1.0.0,>=0.3.0 (from spacy)\n",
      "  Downloading typer-0.12.3-py3-none-any.whl.metadata (15 kB)\n",
      "Requirement already satisfied: tqdm<5.0.0,>=4.38.0 in c:\\users\\aya\\anaconda3\\lib\\site-packages (from spacy) (4.65.0)\n",
      "Requirement already satisfied: requests<3.0.0,>=2.13.0 in c:\\users\\aya\\anaconda3\\lib\\site-packages (from spacy) (2.31.0)\n",
      "Requirement already satisfied: pydantic!=1.8,!=1.8.1,<3.0.0,>=1.7.4 in c:\\users\\aya\\anaconda3\\lib\\site-packages (from spacy) (1.10.12)\n",
      "Requirement already satisfied: jinja2 in c:\\users\\aya\\anaconda3\\lib\\site-packages (from spacy) (3.1.3)\n",
      "Requirement already satisfied: setuptools in c:\\users\\aya\\anaconda3\\lib\\site-packages (from spacy) (68.2.2)\n",
      "Requirement already satisfied: packaging>=20.0 in c:\\users\\aya\\anaconda3\\lib\\site-packages (from spacy) (23.1)\n",
      "Collecting langcodes<4.0.0,>=3.2.0 (from spacy)\n",
      "  Downloading langcodes-3.4.0-py3-none-any.whl.metadata (29 kB)\n",
      "Requirement already satisfied: numpy>=1.19.0 in c:\\users\\aya\\anaconda3\\lib\\site-packages (from spacy) (1.26.4)\n",
      "Collecting language-data>=1.2 (from langcodes<4.0.0,>=3.2.0->spacy)\n",
      "  Downloading language_data-1.2.0-py3-none-any.whl.metadata (4.3 kB)\n",
      "Requirement already satisfied: typing-extensions>=4.2.0 in c:\\users\\aya\\anaconda3\\lib\\site-packages (from pydantic!=1.8,!=1.8.1,<3.0.0,>=1.7.4->spacy) (4.9.0)\n",
      "Requirement already satisfied: charset-normalizer<4,>=2 in c:\\users\\aya\\anaconda3\\lib\\site-packages (from requests<3.0.0,>=2.13.0->spacy) (2.0.4)\n",
      "Requirement already satisfied: idna<4,>=2.5 in c:\\users\\aya\\anaconda3\\lib\\site-packages (from requests<3.0.0,>=2.13.0->spacy) (3.4)\n",
      "Requirement already satisfied: urllib3<3,>=1.21.1 in c:\\users\\aya\\anaconda3\\lib\\site-packages (from requests<3.0.0,>=2.13.0->spacy) (2.0.7)\n",
      "Requirement already satisfied: certifi>=2017.4.17 in c:\\users\\aya\\anaconda3\\lib\\site-packages (from requests<3.0.0,>=2.13.0->spacy) (2024.2.2)\n",
      "Collecting blis<0.8.0,>=0.7.8 (from thinc<8.3.0,>=8.2.2->spacy)\n",
      "  Downloading blis-0.7.11-cp311-cp311-win_amd64.whl.metadata (7.6 kB)\n",
      "Collecting confection<1.0.0,>=0.0.1 (from thinc<8.3.0,>=8.2.2->spacy)\n",
      "  Downloading confection-0.1.5-py3-none-any.whl.metadata (19 kB)\n",
      "Requirement already satisfied: colorama in c:\\users\\aya\\anaconda3\\lib\\site-packages (from tqdm<5.0.0,>=4.38.0->spacy) (0.4.6)\n",
      "Requirement already satisfied: click>=8.0.0 in c:\\users\\aya\\anaconda3\\lib\\site-packages (from typer<1.0.0,>=0.3.0->spacy) (8.1.7)\n",
      "Collecting shellingham>=1.3.0 (from typer<1.0.0,>=0.3.0->spacy)\n",
      "  Downloading shellingham-1.5.4-py2.py3-none-any.whl.metadata (3.5 kB)\n",
      "Requirement already satisfied: rich>=10.11.0 in c:\\users\\aya\\anaconda3\\lib\\site-packages (from typer<1.0.0,>=0.3.0->spacy) (13.3.5)\n",
      "Collecting cloudpathlib<1.0.0,>=0.7.0 (from weasel<0.5.0,>=0.1.0->spacy)\n",
      "  Downloading cloudpathlib-0.18.1-py3-none-any.whl.metadata (14 kB)\n",
      "Requirement already satisfied: smart-open<8.0.0,>=5.2.1 in c:\\users\\aya\\anaconda3\\lib\\site-packages (from weasel<0.5.0,>=0.1.0->spacy) (5.2.1)\n",
      "Requirement already satisfied: MarkupSafe>=2.0 in c:\\users\\aya\\anaconda3\\lib\\site-packages (from jinja2->spacy) (2.1.3)\n",
      "Collecting marisa-trie>=0.7.7 (from language-data>=1.2->langcodes<4.0.0,>=3.2.0->spacy)\n",
      "  Downloading marisa_trie-1.2.0-cp311-cp311-win_amd64.whl.metadata (9.0 kB)\n",
      "Requirement already satisfied: markdown-it-py<3.0.0,>=2.2.0 in c:\\users\\aya\\anaconda3\\lib\\site-packages (from rich>=10.11.0->typer<1.0.0,>=0.3.0->spacy) (2.2.0)\n",
      "Requirement already satisfied: pygments<3.0.0,>=2.13.0 in c:\\users\\aya\\anaconda3\\lib\\site-packages (from rich>=10.11.0->typer<1.0.0,>=0.3.0->spacy) (2.15.1)\n",
      "Requirement already satisfied: mdurl~=0.1 in c:\\users\\aya\\anaconda3\\lib\\site-packages (from markdown-it-py<3.0.0,>=2.2.0->rich>=10.11.0->typer<1.0.0,>=0.3.0->spacy) (0.1.0)\n",
      "Downloading spacy-3.7.5-cp311-cp311-win_amd64.whl (12.1 MB)\n",
      "   ---------------------------------------- 0.0/12.1 MB ? eta -:--:--\n",
      "   ---------------------------------------- 0.0/12.1 MB 660.6 kB/s eta 0:00:19\n",
      "   ---------------------------------------- 0.0/12.1 MB 653.6 kB/s eta 0:00:19\n",
      "   ---------------------------------------- 0.1/12.1 MB 409.6 kB/s eta 0:00:30\n",
      "   ---------------------------------------- 0.1/12.1 MB 595.3 kB/s eta 0:00:21\n",
      "    --------------------------------------- 0.2/12.1 MB 748.1 kB/s eta 0:00:16\n",
      "    --------------------------------------- 0.2/12.1 MB 748.1 kB/s eta 0:00:16\n",
      "    --------------------------------------- 0.2/12.1 MB 655.1 kB/s eta 0:00:19\n",
      "    --------------------------------------- 0.3/12.1 MB 803.7 kB/s eta 0:00:15\n",
      "   - -------------------------------------- 0.4/12.1 MB 1.1 MB/s eta 0:00:11\n",
      "   - -------------------------------------- 0.5/12.1 MB 1.1 MB/s eta 0:00:11\n",
      "   - -------------------------------------- 0.6/12.1 MB 1.2 MB/s eta 0:00:10\n",
      "   -- ------------------------------------- 0.7/12.1 MB 1.4 MB/s eta 0:00:08\n",
      "   --- ------------------------------------ 1.0/12.1 MB 1.7 MB/s eta 0:00:07\n",
      "   --- ------------------------------------ 1.0/12.1 MB 1.7 MB/s eta 0:00:07\n",
      "   --- ------------------------------------ 1.2/12.1 MB 1.8 MB/s eta 0:00:07\n",
      "   ----- ---------------------------------- 1.5/12.1 MB 2.2 MB/s eta 0:00:05\n",
      "   ------ --------------------------------- 1.9/12.1 MB 2.5 MB/s eta 0:00:05\n",
      "   ------- -------------------------------- 2.2/12.1 MB 2.8 MB/s eta 0:00:04\n",
      "   ------- -------------------------------- 2.3/12.1 MB 2.8 MB/s eta 0:00:04\n",
      "   -------- ------------------------------- 2.7/12.1 MB 3.1 MB/s eta 0:00:04\n",
      "   --------- ------------------------------ 2.9/12.1 MB 3.2 MB/s eta 0:00:03\n",
      "   ---------- ----------------------------- 3.3/12.1 MB 3.4 MB/s eta 0:00:03\n",
      "   ----------- ---------------------------- 3.5/12.1 MB 3.4 MB/s eta 0:00:03\n",
      "   ----------- ---------------------------- 3.5/12.1 MB 3.5 MB/s eta 0:00:03\n",
      "   ----------- ---------------------------- 3.5/12.1 MB 3.5 MB/s eta 0:00:03\n",
      "   ----------- ---------------------------- 3.5/12.1 MB 3.5 MB/s eta 0:00:03\n",
      "   ----------- ---------------------------- 3.5/12.1 MB 3.5 MB/s eta 0:00:03\n",
      "   ----------- ---------------------------- 3.5/12.1 MB 3.5 MB/s eta 0:00:03\n",
      "   ----------- ---------------------------- 3.5/12.1 MB 3.5 MB/s eta 0:00:03\n",
      "   ------------ --------------------------- 3.7/12.1 MB 2.8 MB/s eta 0:00:04\n",
      "   ------------- -------------------------- 4.2/12.1 MB 3.1 MB/s eta 0:00:03\n",
      "   -------------- ------------------------- 4.5/12.1 MB 3.2 MB/s eta 0:00:03\n",
      "   ---------------- ----------------------- 4.8/12.1 MB 3.3 MB/s eta 0:00:03\n",
      "   ----------------- ---------------------- 5.3/12.1 MB 3.5 MB/s eta 0:00:02\n",
      "   ----------------- ---------------------- 5.3/12.1 MB 3.5 MB/s eta 0:00:02\n",
      "   ----------------- ---------------------- 5.3/12.1 MB 3.5 MB/s eta 0:00:02\n",
      "   ----------------- ---------------------- 5.3/12.1 MB 3.5 MB/s eta 0:00:02\n",
      "   ----------------- ---------------------- 5.3/12.1 MB 3.5 MB/s eta 0:00:02\n",
      "   -------------------- ------------------- 6.3/12.1 MB 3.6 MB/s eta 0:00:02\n",
      "   --------------------- ------------------ 6.6/12.1 MB 3.6 MB/s eta 0:00:02\n",
      "   ---------------------- ----------------- 6.8/12.1 MB 3.7 MB/s eta 0:00:02\n",
      "   ----------------------- ---------------- 7.0/12.1 MB 3.7 MB/s eta 0:00:02\n",
      "   ----------------------- ---------------- 7.2/12.1 MB 3.7 MB/s eta 0:00:02\n",
      "   ------------------------ --------------- 7.5/12.1 MB 3.7 MB/s eta 0:00:02\n",
      "   ------------------------- -------------- 7.7/12.1 MB 3.7 MB/s eta 0:00:02\n",
      "   -------------------------- ------------- 7.9/12.1 MB 3.8 MB/s eta 0:00:02\n",
      "   -------------------------- ------------- 7.9/12.1 MB 3.8 MB/s eta 0:00:02\n",
      "   -------------------------- ------------- 7.9/12.1 MB 3.8 MB/s eta 0:00:02\n",
      "   -------------------------- ------------- 7.9/12.1 MB 3.8 MB/s eta 0:00:02\n",
      "   -------------------------- ------------- 7.9/12.1 MB 3.8 MB/s eta 0:00:02\n",
      "   -------------------------- ------------- 7.9/12.1 MB 3.8 MB/s eta 0:00:02\n",
      "   -------------------------- ------------- 7.9/12.1 MB 3.8 MB/s eta 0:00:02\n",
      "   -------------------------- ------------- 8.1/12.1 MB 3.3 MB/s eta 0:00:02\n",
      "   ---------------------------- ----------- 8.5/12.1 MB 3.4 MB/s eta 0:00:02\n",
      "   ------------------------------- -------- 9.5/12.1 MB 3.8 MB/s eta 0:00:01\n",
      "   ------------------------------- -------- 9.5/12.1 MB 3.8 MB/s eta 0:00:01\n",
      "   ------------------------------- -------- 9.5/12.1 MB 3.8 MB/s eta 0:00:01\n",
      "   ------------------------------- -------- 9.5/12.1 MB 3.8 MB/s eta 0:00:01\n",
      "   ------------------------------- -------- 9.5/12.1 MB 3.8 MB/s eta 0:00:01\n",
      "   ------------------------------- -------- 9.5/12.1 MB 3.8 MB/s eta 0:00:01\n",
      "   -------------------------------- ------- 9.7/12.1 MB 3.4 MB/s eta 0:00:01\n",
      "   ----------------------------------- ---- 10.9/12.1 MB 4.3 MB/s eta 0:00:01\n",
      "   ------------------------------------ --- 11.2/12.1 MB 4.3 MB/s eta 0:00:01\n",
      "   ------------------------------------- -- 11.3/12.1 MB 4.3 MB/s eta 0:00:01\n",
      "   -------------------------------------- - 11.5/12.1 MB 4.4 MB/s eta 0:00:01\n",
      "   -------------------------------------- - 11.7/12.1 MB 4.3 MB/s eta 0:00:01\n",
      "   ---------------------------------------  11.9/12.1 MB 4.3 MB/s eta 0:00:01\n",
      "   ---------------------------------------  12.1/12.1 MB 4.2 MB/s eta 0:00:01\n",
      "   ---------------------------------------  12.1/12.1 MB 4.2 MB/s eta 0:00:01\n",
      "   ---------------------------------------- 12.1/12.1 MB 4.1 MB/s eta 0:00:00\n",
      "Downloading catalogue-2.0.10-py3-none-any.whl (17 kB)\n",
      "Downloading cymem-2.0.8-cp311-cp311-win_amd64.whl (39 kB)\n",
      "Downloading langcodes-3.4.0-py3-none-any.whl (182 kB)\n",
      "   ---------------------------------------- 0.0/182.0 kB ? eta -:--:--\n",
      "   ------------------------------------- - 174.1/182.0 kB 10.9 MB/s eta 0:00:01\n",
      "   ---------------------------------------- 182.0/182.0 kB 2.8 MB/s eta 0:00:00\n",
      "Downloading murmurhash-1.0.10-cp311-cp311-win_amd64.whl (25 kB)\n",
      "Downloading preshed-3.0.9-cp311-cp311-win_amd64.whl (122 kB)\n",
      "   ---------------------------------------- 0.0/122.3 kB ? eta -:--:--\n",
      "   ---------------------------------------- 122.3/122.3 kB 3.5 MB/s eta 0:00:00\n",
      "Downloading spacy_legacy-3.0.12-py2.py3-none-any.whl (29 kB)\n",
      "Downloading spacy_loggers-1.0.5-py3-none-any.whl (22 kB)\n",
      "Downloading srsly-2.4.8-cp311-cp311-win_amd64.whl (479 kB)\n",
      "   ---------------------------------------- 0.0/479.7 kB ? eta -:--:--\n",
      "   ----------- ---------------------------- 143.4/479.7 kB 4.2 MB/s eta 0:00:01\n",
      "   -------------------------- ------------- 317.4/479.7 kB 3.9 MB/s eta 0:00:01\n",
      "   ---------------------------------------  471.0/479.7 kB 3.7 MB/s eta 0:00:01\n",
      "   ---------------------------------------- 479.7/479.7 kB 3.0 MB/s eta 0:00:00\n",
      "Downloading thinc-8.2.5-cp311-cp311-win_amd64.whl (1.5 MB)\n",
      "   ---------------------------------------- 0.0/1.5 MB ? eta -:--:--\n",
      "   --- ------------------------------------ 0.1/1.5 MB 3.6 MB/s eta 0:00:01\n",
      "   --------- ------------------------------ 0.4/1.5 MB 4.6 MB/s eta 0:00:01\n",
      "   --------------- ------------------------ 0.6/1.5 MB 4.6 MB/s eta 0:00:01\n",
      "   ------------------------- -------------- 0.9/1.5 MB 5.0 MB/s eta 0:00:01\n",
      "   ------------------------------ --------- 1.1/1.5 MB 4.9 MB/s eta 0:00:01\n",
      "   -------------------------------------- - 1.4/1.5 MB 4.8 MB/s eta 0:00:01\n",
      "   ---------------------------------------- 1.5/1.5 MB 4.3 MB/s eta 0:00:00\n",
      "Downloading typer-0.12.3-py3-none-any.whl (47 kB)\n",
      "   ---------------------------------------- 0.0/47.2 kB ? eta -:--:--\n",
      "   ---------------------------------------- 47.2/47.2 kB 2.5 MB/s eta 0:00:00\n",
      "Downloading wasabi-1.1.3-py3-none-any.whl (27 kB)\n",
      "Downloading weasel-0.4.1-py3-none-any.whl (50 kB)\n",
      "   ---------------------------------------- 0.0/50.3 kB ? eta -:--:--\n",
      "   -------- ------------------------------- 10.2/50.3 kB ? eta -:--:--\n",
      "   -------- ------------------------------- 10.2/50.3 kB ? eta -:--:--\n",
      "   -------- ------------------------------- 10.2/50.3 kB ? eta -:--:--\n",
      "   ---------------------------------------- 50.3/50.3 kB 256.6 kB/s eta 0:00:00\n",
      "Downloading blis-0.7.11-cp311-cp311-win_amd64.whl (6.6 MB)\n",
      "   ---------------------------------------- 0.0/6.6 MB ? eta -:--:--\n",
      "   ---------------------------------------- 0.1/6.6 MB 3.2 MB/s eta 0:00:03\n",
      "   ---------------------------------------- 0.1/6.6 MB 3.2 MB/s eta 0:00:03\n",
      "   ---------------------------------------- 0.1/6.6 MB 3.2 MB/s eta 0:00:03\n",
      "    --------------------------------------- 0.1/6.6 MB 476.3 kB/s eta 0:00:14\n",
      "    --------------------------------------- 0.1/6.6 MB 476.3 kB/s eta 0:00:14\n",
      "    --------------------------------------- 0.1/6.6 MB 476.3 kB/s eta 0:00:14\n",
      "    --------------------------------------- 0.2/6.6 MB 490.7 kB/s eta 0:00:14\n",
      "   - -------------------------------------- 0.2/6.6 MB 588.9 kB/s eta 0:00:11\n",
      "   - -------------------------------------- 0.2/6.6 MB 588.9 kB/s eta 0:00:11\n",
      "   - -------------------------------------- 0.2/6.6 MB 588.9 kB/s eta 0:00:11\n",
      "   - -------------------------------------- 0.3/6.6 MB 567.7 kB/s eta 0:00:12\n",
      "   - -------------------------------------- 0.3/6.6 MB 567.7 kB/s eta 0:00:12\n",
      "   - -------------------------------------- 0.3/6.6 MB 491.1 kB/s eta 0:00:13\n",
      "   -- ------------------------------------- 0.4/6.6 MB 559.1 kB/s eta 0:00:12\n",
      "   -- ------------------------------------- 0.4/6.6 MB 559.1 kB/s eta 0:00:12\n",
      "   -- ------------------------------------- 0.4/6.6 MB 527.0 kB/s eta 0:00:12\n",
      "   -- ------------------------------------- 0.4/6.6 MB 561.5 kB/s eta 0:00:11\n",
      "   -- ------------------------------------- 0.5/6.6 MB 552.5 kB/s eta 0:00:12\n",
      "   -- ------------------------------------- 0.5/6.6 MB 581.3 kB/s eta 0:00:11\n",
      "   --- ------------------------------------ 0.5/6.6 MB 585.1 kB/s eta 0:00:11\n",
      "   --- ------------------------------------ 0.5/6.6 MB 585.1 kB/s eta 0:00:11\n",
      "   --- ------------------------------------ 0.5/6.6 MB 585.1 kB/s eta 0:00:11\n",
      "   --- ------------------------------------ 0.5/6.6 MB 585.1 kB/s eta 0:00:11\n",
      "   --- ------------------------------------ 0.5/6.6 MB 585.1 kB/s eta 0:00:11\n",
      "   --- ------------------------------------ 0.5/6.6 MB 457.7 kB/s eta 0:00:14\n",
      "   ---- ----------------------------------- 0.7/6.6 MB 629.1 kB/s eta 0:00:10\n",
      "   ---- ----------------------------------- 0.7/6.6 MB 629.1 kB/s eta 0:00:10\n",
      "   ---- ----------------------------------- 0.8/6.6 MB 615.8 kB/s eta 0:00:10\n",
      "   ----- ---------------------------------- 0.9/6.6 MB 655.2 kB/s eta 0:00:09\n",
      "   ------ --------------------------------- 1.0/6.6 MB 706.7 kB/s eta 0:00:08\n",
      "   ------ --------------------------------- 1.1/6.6 MB 748.9 kB/s eta 0:00:08\n",
      "   ------- -------------------------------- 1.2/6.6 MB 815.6 kB/s eta 0:00:07\n",
      "   -------- ------------------------------- 1.4/6.6 MB 891.6 kB/s eta 0:00:06\n",
      "   -------- ------------------------------- 1.5/6.6 MB 936.9 kB/s eta 0:00:06\n",
      "   --------- ------------------------------ 1.6/6.6 MB 992.8 kB/s eta 0:00:06\n",
      "   ---------- ----------------------------- 1.8/6.6 MB 1.1 MB/s eta 0:00:05\n",
      "   ----------- ---------------------------- 1.9/6.6 MB 1.1 MB/s eta 0:00:05\n",
      "   ----------- ---------------------------- 2.0/6.6 MB 1.1 MB/s eta 0:00:05\n",
      "   ------------ --------------------------- 2.1/6.6 MB 1.2 MB/s eta 0:00:04\n",
      "   ------------- -------------------------- 2.3/6.6 MB 1.2 MB/s eta 0:00:04\n",
      "   -------------- ------------------------- 2.4/6.6 MB 1.3 MB/s eta 0:00:04\n",
      "   --------------- ------------------------ 2.5/6.6 MB 1.3 MB/s eta 0:00:04\n",
      "   ---------------- ----------------------- 2.7/6.6 MB 1.4 MB/s eta 0:00:03\n",
      "   ----------------- ---------------------- 2.8/6.6 MB 1.4 MB/s eta 0:00:03\n",
      "   ----------------- ---------------------- 2.9/6.6 MB 1.4 MB/s eta 0:00:03\n",
      "   ----------------- ---------------------- 2.9/6.6 MB 1.4 MB/s eta 0:00:03\n",
      "   ----------------- ---------------------- 2.9/6.6 MB 1.4 MB/s eta 0:00:03\n",
      "   -------------------- ------------------- 3.4/6.6 MB 1.5 MB/s eta 0:00:03\n",
      "   -------------------- ------------------- 3.5/6.6 MB 1.5 MB/s eta 0:00:03\n",
      "   --------------------- ------------------ 3.6/6.6 MB 1.5 MB/s eta 0:00:02\n",
      "   ---------------------- ----------------- 3.7/6.6 MB 1.6 MB/s eta 0:00:02\n",
      "   ---------------------- ----------------- 3.8/6.6 MB 1.6 MB/s eta 0:00:02\n",
      "   ----------------------- ---------------- 3.9/6.6 MB 1.6 MB/s eta 0:00:02\n",
      "   ------------------------ --------------- 4.0/6.6 MB 1.6 MB/s eta 0:00:02\n",
      "   ------------------------ --------------- 4.1/6.6 MB 1.6 MB/s eta 0:00:02\n",
      "   ------------------------- -------------- 4.1/6.6 MB 1.6 MB/s eta 0:00:02\n",
      "   -------------------------- ------------- 4.3/6.6 MB 1.6 MB/s eta 0:00:02\n",
      "   -------------------------- ------------- 4.4/6.6 MB 1.6 MB/s eta 0:00:02\n",
      "   --------------------------- ------------ 4.5/6.6 MB 1.6 MB/s eta 0:00:02\n",
      "   --------------------------- ------------ 4.5/6.6 MB 1.6 MB/s eta 0:00:02\n",
      "   ---------------------------- ----------- 4.7/6.6 MB 1.6 MB/s eta 0:00:02\n",
      "   ----------------------------- ---------- 4.8/6.6 MB 1.7 MB/s eta 0:00:02\n",
      "   ----------------------------- ---------- 4.9/6.6 MB 1.6 MB/s eta 0:00:02\n",
      "   ------------------------------ --------- 5.0/6.6 MB 1.7 MB/s eta 0:00:01\n",
      "   ------------------------------- -------- 5.2/6.6 MB 1.7 MB/s eta 0:00:01\n",
      "   ------------------------------- -------- 5.3/6.6 MB 1.7 MB/s eta 0:00:01\n",
      "   -------------------------------- ------- 5.4/6.6 MB 1.7 MB/s eta 0:00:01\n",
      "   --------------------------------- ------ 5.5/6.6 MB 1.7 MB/s eta 0:00:01\n",
      "   --------------------------------- ------ 5.6/6.6 MB 1.7 MB/s eta 0:00:01\n",
      "   ---------------------------------- ----- 5.7/6.6 MB 1.7 MB/s eta 0:00:01\n",
      "   ----------------------------------- ---- 5.8/6.6 MB 1.7 MB/s eta 0:00:01\n",
      "   ----------------------------------- ---- 5.9/6.6 MB 1.8 MB/s eta 0:00:01\n",
      "   ------------------------------------ --- 6.0/6.6 MB 1.8 MB/s eta 0:00:01\n",
      "   ------------------------------------- -- 6.2/6.6 MB 1.8 MB/s eta 0:00:01\n",
      "   ------------------------------------- -- 6.3/6.6 MB 1.8 MB/s eta 0:00:01\n",
      "   -------------------------------------- - 6.4/6.6 MB 1.8 MB/s eta 0:00:01\n",
      "   ---------------------------------------  6.5/6.6 MB 1.8 MB/s eta 0:00:01\n",
      "   ---------------------------------------  6.6/6.6 MB 1.8 MB/s eta 0:00:01\n",
      "   ---------------------------------------  6.6/6.6 MB 1.8 MB/s eta 0:00:01\n",
      "   ---------------------------------------- 6.6/6.6 MB 1.8 MB/s eta 0:00:00\n",
      "Downloading cloudpathlib-0.18.1-py3-none-any.whl (47 kB)\n",
      "   ---------------------------------------- 0.0/47.3 kB ? eta -:--:--\n",
      "   ---------------------------------------- 47.3/47.3 kB 2.3 MB/s eta 0:00:00\n",
      "Downloading confection-0.1.5-py3-none-any.whl (35 kB)\n",
      "Downloading language_data-1.2.0-py3-none-any.whl (5.4 MB)\n",
      "   ---------------------------------------- 0.0/5.4 MB ? eta -:--:--\n",
      "    --------------------------------------- 0.1/5.4 MB 3.5 MB/s eta 0:00:02\n",
      "   - -------------------------------------- 0.2/5.4 MB 3.0 MB/s eta 0:00:02\n",
      "   -- ------------------------------------- 0.4/5.4 MB 2.9 MB/s eta 0:00:02\n",
      "   --- ------------------------------------ 0.5/5.4 MB 2.8 MB/s eta 0:00:02\n",
      "   ---- ----------------------------------- 0.6/5.4 MB 2.7 MB/s eta 0:00:02\n",
      "   ----- ---------------------------------- 0.7/5.4 MB 2.6 MB/s eta 0:00:02\n",
      "   ------ --------------------------------- 0.8/5.4 MB 2.6 MB/s eta 0:00:02\n",
      "   ------ --------------------------------- 0.9/5.4 MB 2.6 MB/s eta 0:00:02\n",
      "   ------- -------------------------------- 1.0/5.4 MB 2.5 MB/s eta 0:00:02\n",
      "   -------- ------------------------------- 1.1/5.4 MB 2.5 MB/s eta 0:00:02\n",
      "   --------- ------------------------------ 1.3/5.4 MB 2.6 MB/s eta 0:00:02\n",
      "   ---------- ----------------------------- 1.4/5.4 MB 2.5 MB/s eta 0:00:02\n",
      "   ----------- ---------------------------- 1.5/5.4 MB 2.6 MB/s eta 0:00:02\n",
      "   ------------ --------------------------- 1.7/5.4 MB 2.6 MB/s eta 0:00:02\n",
      "   ------------ --------------------------- 1.7/5.4 MB 2.5 MB/s eta 0:00:02\n",
      "   ------------- -------------------------- 1.9/5.4 MB 2.5 MB/s eta 0:00:02\n",
      "   --------------- ------------------------ 2.0/5.4 MB 2.6 MB/s eta 0:00:02\n",
      "   --------------- ------------------------ 2.1/5.4 MB 2.6 MB/s eta 0:00:02\n",
      "   ---------------- ----------------------- 2.3/5.4 MB 2.6 MB/s eta 0:00:02\n",
      "   ------------------ --------------------- 2.4/5.4 MB 2.6 MB/s eta 0:00:02\n",
      "   ------------------ --------------------- 2.5/5.4 MB 2.5 MB/s eta 0:00:02\n",
      "   ------------------- -------------------- 2.6/5.4 MB 2.6 MB/s eta 0:00:02\n",
      "   -------------------- ------------------- 2.7/5.4 MB 2.5 MB/s eta 0:00:02\n",
      "   --------------------- ------------------ 2.8/5.4 MB 2.6 MB/s eta 0:00:01\n",
      "   ---------------------- ----------------- 3.0/5.4 MB 2.6 MB/s eta 0:00:01\n",
      "   ---------------------- ----------------- 3.1/5.4 MB 2.5 MB/s eta 0:00:01\n",
      "   ----------------------- ---------------- 3.2/5.4 MB 2.6 MB/s eta 0:00:01\n",
      "   ------------------------- -------------- 3.4/5.4 MB 2.6 MB/s eta 0:00:01\n",
      "   ------------------------- -------------- 3.4/5.4 MB 2.6 MB/s eta 0:00:01\n",
      "   -------------------------- ------------- 3.6/5.4 MB 2.6 MB/s eta 0:00:01\n",
      "   --------------------------- ------------ 3.6/5.4 MB 2.6 MB/s eta 0:00:01\n",
      "   --------------------------- ------------ 3.6/5.4 MB 2.6 MB/s eta 0:00:01\n",
      "   --------------------------- ------------ 3.6/5.4 MB 2.6 MB/s eta 0:00:01\n",
      "   --------------------------- ------------ 3.6/5.4 MB 2.6 MB/s eta 0:00:01\n",
      "   ----------------------------- ---------- 4.0/5.4 MB 2.5 MB/s eta 0:00:01\n",
      "   ------------------------------ --------- 4.1/5.4 MB 2.5 MB/s eta 0:00:01\n",
      "   ------------------------------- -------- 4.2/5.4 MB 2.4 MB/s eta 0:00:01\n",
      "   ------------------------------- -------- 4.3/5.4 MB 2.4 MB/s eta 0:00:01\n",
      "   -------------------------------- ------- 4.4/5.4 MB 2.4 MB/s eta 0:00:01\n",
      "   -------------------------------- ------- 4.4/5.4 MB 2.4 MB/s eta 0:00:01\n",
      "   --------------------------------- ------ 4.5/5.4 MB 2.4 MB/s eta 0:00:01\n",
      "   ---------------------------------- ----- 4.6/5.4 MB 2.4 MB/s eta 0:00:01\n",
      "   ---------------------------------- ----- 4.7/5.4 MB 2.4 MB/s eta 0:00:01\n",
      "   ----------------------------------- ---- 4.7/5.4 MB 2.3 MB/s eta 0:00:01\n",
      "   ----------------------------------- ---- 4.8/5.4 MB 2.3 MB/s eta 0:00:01\n",
      "   ------------------------------------ --- 4.9/5.4 MB 2.3 MB/s eta 0:00:01\n",
      "   ------------------------------------- -- 5.0/5.4 MB 2.3 MB/s eta 0:00:01\n",
      "   ------------------------------------- -- 5.1/5.4 MB 2.3 MB/s eta 0:00:01\n",
      "   -------------------------------------- - 5.2/5.4 MB 2.3 MB/s eta 0:00:01\n",
      "   ---------------------------------------  5.3/5.4 MB 2.3 MB/s eta 0:00:01\n",
      "   ---------------------------------------  5.4/5.4 MB 2.3 MB/s eta 0:00:01\n",
      "   ---------------------------------------  5.4/5.4 MB 2.3 MB/s eta 0:00:01\n",
      "   ---------------------------------------  5.4/5.4 MB 2.3 MB/s eta 0:00:01\n",
      "   ---------------------------------------- 5.4/5.4 MB 2.2 MB/s eta 0:00:00\n",
      "Downloading shellingham-1.5.4-py2.py3-none-any.whl (9.8 kB)\n",
      "Downloading marisa_trie-1.2.0-cp311-cp311-win_amd64.whl (152 kB)\n",
      "   ---------------------------------------- 0.0/152.6 kB ? eta -:--:--\n",
      "   ------------------ --------------------- 71.7/152.6 kB 1.9 MB/s eta 0:00:01\n",
      "   ---------------------------------------- 152.6/152.6 kB 1.5 MB/s eta 0:00:00\n",
      "Installing collected packages: cymem, wasabi, spacy-loggers, spacy-legacy, shellingham, murmurhash, marisa-trie, cloudpathlib, catalogue, blis, srsly, preshed, language-data, typer, langcodes, confection, weasel, thinc, spacy\n",
      "Successfully installed blis-0.7.11 catalogue-2.0.10 cloudpathlib-0.18.1 confection-0.1.5 cymem-2.0.8 langcodes-3.4.0 language-data-1.2.0 marisa-trie-1.2.0 murmurhash-1.0.10 preshed-3.0.9 shellingham-1.5.4 spacy-3.7.5 spacy-legacy-3.0.12 spacy-loggers-1.0.5 srsly-2.4.8 thinc-8.2.5 typer-0.12.3 wasabi-1.1.3 weasel-0.4.1\n"
     ]
    }
   ],
   "source": [
    "pip install spacy"
   ]
  },
  {
   "cell_type": "code",
   "execution_count": 3,
   "metadata": {
    "id": "_AgmXTuPGMXG"
   },
   "outputs": [],
   "source": [
    "import pandas as pd\n",
    "from sklearn.model_selection import train_test_split\n",
    "from sklearn.feature_extraction.text import CountVectorizer, TfidfVectorizer\n",
    "from sklearn.metrics import accuracy_score, confusion_matrix\n",
    "import spacy"
   ]
  },
  {
   "cell_type": "code",
   "execution_count": 5,
   "metadata": {
    "id": "QZZjZ56RGcn1"
   },
   "outputs": [],
   "source": [
    "df = pd.read_csv(r'C:\\Users\\Aya\\Downloads\\Python\\Exercise Dataset\\fake_or_real_news.csv', usecols=lambda col: col if 'Unnamed' not in col else None)\n"
   ]
  },
  {
   "cell_type": "code",
   "execution_count": 6,
   "metadata": {
    "colab": {
     "base_uri": "https://localhost:8080/",
     "height": 206
    },
    "id": "pAVVJ9rLG2fS",
    "outputId": "ad48eafc-9555-4f7c-a5b5-e268d92f327e"
   },
   "outputs": [
    {
     "data": {
      "text/html": [
       "<div>\n",
       "<style scoped>\n",
       "    .dataframe tbody tr th:only-of-type {\n",
       "        vertical-align: middle;\n",
       "    }\n",
       "\n",
       "    .dataframe tbody tr th {\n",
       "        vertical-align: top;\n",
       "    }\n",
       "\n",
       "    .dataframe thead th {\n",
       "        text-align: right;\n",
       "    }\n",
       "</style>\n",
       "<table border=\"1\" class=\"dataframe\">\n",
       "  <thead>\n",
       "    <tr style=\"text-align: right;\">\n",
       "      <th></th>\n",
       "      <th>title</th>\n",
       "      <th>text</th>\n",
       "      <th>label</th>\n",
       "    </tr>\n",
       "  </thead>\n",
       "  <tbody>\n",
       "    <tr>\n",
       "      <th>0</th>\n",
       "      <td>You Can Smell Hillary’s Fear</td>\n",
       "      <td>Daniel Greenfield, a Shillman Journalism Fello...</td>\n",
       "      <td>FAKE</td>\n",
       "    </tr>\n",
       "    <tr>\n",
       "      <th>1</th>\n",
       "      <td>Watch The Exact Moment Paul Ryan Committed Pol...</td>\n",
       "      <td>Google Pinterest Digg Linkedin Reddit Stumbleu...</td>\n",
       "      <td>FAKE</td>\n",
       "    </tr>\n",
       "    <tr>\n",
       "      <th>2</th>\n",
       "      <td>Kerry to go to Paris in gesture of sympathy</td>\n",
       "      <td>U.S. Secretary of State John F. Kerry said Mon...</td>\n",
       "      <td>REAL</td>\n",
       "    </tr>\n",
       "    <tr>\n",
       "      <th>3</th>\n",
       "      <td>Bernie supporters on Twitter erupt in anger ag...</td>\n",
       "      <td>— Kaydee King (@KaydeeKing) November 9, 2016 T...</td>\n",
       "      <td>FAKE</td>\n",
       "    </tr>\n",
       "    <tr>\n",
       "      <th>4</th>\n",
       "      <td>The Battle of New York: Why This Primary Matters</td>\n",
       "      <td>It's primary day in New York and front-runners...</td>\n",
       "      <td>REAL</td>\n",
       "    </tr>\n",
       "  </tbody>\n",
       "</table>\n",
       "</div>"
      ],
      "text/plain": [
       "                                               title  \\\n",
       "0                       You Can Smell Hillary’s Fear   \n",
       "1  Watch The Exact Moment Paul Ryan Committed Pol...   \n",
       "2        Kerry to go to Paris in gesture of sympathy   \n",
       "3  Bernie supporters on Twitter erupt in anger ag...   \n",
       "4   The Battle of New York: Why This Primary Matters   \n",
       "\n",
       "                                                text label  \n",
       "0  Daniel Greenfield, a Shillman Journalism Fello...  FAKE  \n",
       "1  Google Pinterest Digg Linkedin Reddit Stumbleu...  FAKE  \n",
       "2  U.S. Secretary of State John F. Kerry said Mon...  REAL  \n",
       "3  — Kaydee King (@KaydeeKing) November 9, 2016 T...  FAKE  \n",
       "4  It's primary day in New York and front-runners...  REAL  "
      ]
     },
     "execution_count": 6,
     "metadata": {},
     "output_type": "execute_result"
    }
   ],
   "source": [
    "df.head()"
   ]
  },
  {
   "cell_type": "code",
   "execution_count": 7,
   "metadata": {
    "id": "TaboNyKhG4rU"
   },
   "outputs": [],
   "source": [
    "df['input_text'] = df['title'] + ' ' + df['text']"
   ]
  },
  {
   "cell_type": "code",
   "execution_count": 8,
   "metadata": {
    "colab": {
     "base_uri": "https://localhost:8080/",
     "height": 292
    },
    "id": "0mCjerrdH-5Y",
    "outputId": "af3e2cf3-1638-4599-9158-635ce49d8f32",
    "scrolled": true
   },
   "outputs": [
    {
     "data": {
      "text/html": [
       "<div>\n",
       "<style scoped>\n",
       "    .dataframe tbody tr th:only-of-type {\n",
       "        vertical-align: middle;\n",
       "    }\n",
       "\n",
       "    .dataframe tbody tr th {\n",
       "        vertical-align: top;\n",
       "    }\n",
       "\n",
       "    .dataframe thead th {\n",
       "        text-align: right;\n",
       "    }\n",
       "</style>\n",
       "<table border=\"1\" class=\"dataframe\">\n",
       "  <thead>\n",
       "    <tr style=\"text-align: right;\">\n",
       "      <th></th>\n",
       "      <th>title</th>\n",
       "      <th>text</th>\n",
       "      <th>label</th>\n",
       "      <th>input_text</th>\n",
       "    </tr>\n",
       "  </thead>\n",
       "  <tbody>\n",
       "    <tr>\n",
       "      <th>0</th>\n",
       "      <td>You Can Smell Hillary’s Fear</td>\n",
       "      <td>Daniel Greenfield, a Shillman Journalism Fello...</td>\n",
       "      <td>FAKE</td>\n",
       "      <td>You Can Smell Hillary’s Fear Daniel Greenfield...</td>\n",
       "    </tr>\n",
       "    <tr>\n",
       "      <th>1</th>\n",
       "      <td>Watch The Exact Moment Paul Ryan Committed Pol...</td>\n",
       "      <td>Google Pinterest Digg Linkedin Reddit Stumbleu...</td>\n",
       "      <td>FAKE</td>\n",
       "      <td>Watch The Exact Moment Paul Ryan Committed Pol...</td>\n",
       "    </tr>\n",
       "    <tr>\n",
       "      <th>2</th>\n",
       "      <td>Kerry to go to Paris in gesture of sympathy</td>\n",
       "      <td>U.S. Secretary of State John F. Kerry said Mon...</td>\n",
       "      <td>REAL</td>\n",
       "      <td>Kerry to go to Paris in gesture of sympathy U....</td>\n",
       "    </tr>\n",
       "    <tr>\n",
       "      <th>3</th>\n",
       "      <td>Bernie supporters on Twitter erupt in anger ag...</td>\n",
       "      <td>— Kaydee King (@KaydeeKing) November 9, 2016 T...</td>\n",
       "      <td>FAKE</td>\n",
       "      <td>Bernie supporters on Twitter erupt in anger ag...</td>\n",
       "    </tr>\n",
       "    <tr>\n",
       "      <th>4</th>\n",
       "      <td>The Battle of New York: Why This Primary Matters</td>\n",
       "      <td>It's primary day in New York and front-runners...</td>\n",
       "      <td>REAL</td>\n",
       "      <td>The Battle of New York: Why This Primary Matte...</td>\n",
       "    </tr>\n",
       "  </tbody>\n",
       "</table>\n",
       "</div>"
      ],
      "text/plain": [
       "                                               title  \\\n",
       "0                       You Can Smell Hillary’s Fear   \n",
       "1  Watch The Exact Moment Paul Ryan Committed Pol...   \n",
       "2        Kerry to go to Paris in gesture of sympathy   \n",
       "3  Bernie supporters on Twitter erupt in anger ag...   \n",
       "4   The Battle of New York: Why This Primary Matters   \n",
       "\n",
       "                                                text label  \\\n",
       "0  Daniel Greenfield, a Shillman Journalism Fello...  FAKE   \n",
       "1  Google Pinterest Digg Linkedin Reddit Stumbleu...  FAKE   \n",
       "2  U.S. Secretary of State John F. Kerry said Mon...  REAL   \n",
       "3  — Kaydee King (@KaydeeKing) November 9, 2016 T...  FAKE   \n",
       "4  It's primary day in New York and front-runners...  REAL   \n",
       "\n",
       "                                          input_text  \n",
       "0  You Can Smell Hillary’s Fear Daniel Greenfield...  \n",
       "1  Watch The Exact Moment Paul Ryan Committed Pol...  \n",
       "2  Kerry to go to Paris in gesture of sympathy U....  \n",
       "3  Bernie supporters on Twitter erupt in anger ag...  \n",
       "4  The Battle of New York: Why This Primary Matte...  "
      ]
     },
     "execution_count": 8,
     "metadata": {},
     "output_type": "execute_result"
    }
   ],
   "source": [
    "df.head()"
   ]
  },
  {
   "cell_type": "markdown",
   "metadata": {
    "id": "NO3_l-I7IEZF"
   },
   "source": [
    "## **Machine Learning Task Instructions**\n",
    "\n",
    "In this task, you will work with the provided `input_text` variable. Your objective is to apply any machine learning algorithm to process the data and achieve meaningful results.\n",
    "\n",
    "### **Steps to Follow:**\n",
    "\n",
    "1. **Preprocess the Data**: Clean and preprocess the `input_text` data as necessary. This might include actions such as tokenization, removing stop words, and lemmatization.\n",
    "\n",
    "2. **Extract Features**: Transform the text data into numerical features suitable for machine learning algorithms. Consider using techniques like `TfidfVectorizer` or `CountVectorizer`.\n",
    "\n",
    "3. **Select a Machine Learning Algorithm**: Choose an appropriate machine learning algorithm for your task. Options include classification algorithms (e.g., Logistic Regression, SVM, Random Forest, and others).\n",
    "\n",
    "4. **Train Your Model**: Split your data into training and testing sets, then train your chosen model on the preprocessed data.\n",
    "\n",
    "5. **Evaluate Your Model**: Measure the performance of your model using suitable metrics (e.g., accuracy, precision, recall, F1-score).\n",
    "\n",
    "Good luck!\n"
   ]
  },
  {
   "cell_type": "code",
   "execution_count": 20,
   "metadata": {
    "id": "N0dIWLgjJ_3O"
   },
   "outputs": [],
   "source": [
    "import pandas as pd\n",
    "from sklearn.model_selection import train_test_split\n",
    "from sklearn.feature_extraction.text import TfidfVectorizer\n",
    "from sklearn.linear_model import LogisticRegression\n",
    "from sklearn.metrics import accuracy_score, precision_score, recall_score, f1_score\n",
    "from sklearn.linear_model import LogisticRegression\n",
    "import joblib"
   ]
  },
  {
   "cell_type": "code",
   "execution_count": 21,
   "metadata": {
    "scrolled": true
   },
   "outputs": [
    {
     "name": "stdout",
     "output_type": "stream",
     "text": [
      "   Unnamed: 0                                              title  \\\n",
      "0        8476                       You Can Smell Hillary’s Fear   \n",
      "1       10294  Watch The Exact Moment Paul Ryan Committed Pol...   \n",
      "2        3608        Kerry to go to Paris in gesture of sympathy   \n",
      "3       10142  Bernie supporters on Twitter erupt in anger ag...   \n",
      "4         875   The Battle of New York: Why This Primary Matters   \n",
      "\n",
      "                                                text label  \n",
      "0  Daniel Greenfield, a Shillman Journalism Fello...  FAKE  \n",
      "1  Google Pinterest Digg Linkedin Reddit Stumbleu...  FAKE  \n",
      "2  U.S. Secretary of State John F. Kerry said Mon...  REAL  \n",
      "3  — Kaydee King (@KaydeeKing) November 9, 2016 T...  FAKE  \n",
      "4  It's primary day in New York and front-runners...  REAL  \n"
     ]
    }
   ],
   "source": [
    "data = pd.read_csv(r'C:\\Users\\Aya\\Downloads\\Python\\Exercise Dataset\\fake_or_real_news.csv')\n",
    "print(data.head())"
   ]
  },
  {
   "cell_type": "code",
   "execution_count": 22,
   "metadata": {},
   "outputs": [
    {
     "data": {
      "text/plain": [
       "label\n",
       "REAL    3171\n",
       "FAKE    3164\n",
       "Name: count, dtype: int64"
      ]
     },
     "execution_count": 22,
     "metadata": {},
     "output_type": "execute_result"
    }
   ],
   "source": [
    "df.label.value_counts()"
   ]
  },
  {
   "cell_type": "code",
   "execution_count": 23,
   "metadata": {},
   "outputs": [],
   "source": [
    "data = data.drop(['Unnamed: 0'], axis=1)\n",
    "data.dropna(inplace=True)"
   ]
  },
  {
   "cell_type": "code",
   "execution_count": 24,
   "metadata": {},
   "outputs": [],
   "source": [
    "vectorizer = TfidfVectorizer(stop_words='english', max_df=0.7)\n",
    "X = vectorizer.fit_transform(data['text'])\n",
    "y = data['label']"
   ]
  },
  {
   "cell_type": "code",
   "execution_count": 25,
   "metadata": {},
   "outputs": [],
   "source": [
    "X_train, X_test, y_train, y_test = train_test_split(X, y, test_size=0.2, random_state=42)"
   ]
  },
  {
   "cell_type": "code",
   "execution_count": 26,
   "metadata": {},
   "outputs": [
    {
     "data": {
      "text/html": [
       "<style>#sk-container-id-2 {color: black;background-color: white;}#sk-container-id-2 pre{padding: 0;}#sk-container-id-2 div.sk-toggleable {background-color: white;}#sk-container-id-2 label.sk-toggleable__label {cursor: pointer;display: block;width: 100%;margin-bottom: 0;padding: 0.3em;box-sizing: border-box;text-align: center;}#sk-container-id-2 label.sk-toggleable__label-arrow:before {content: \"▸\";float: left;margin-right: 0.25em;color: #696969;}#sk-container-id-2 label.sk-toggleable__label-arrow:hover:before {color: black;}#sk-container-id-2 div.sk-estimator:hover label.sk-toggleable__label-arrow:before {color: black;}#sk-container-id-2 div.sk-toggleable__content {max-height: 0;max-width: 0;overflow: hidden;text-align: left;background-color: #f0f8ff;}#sk-container-id-2 div.sk-toggleable__content pre {margin: 0.2em;color: black;border-radius: 0.25em;background-color: #f0f8ff;}#sk-container-id-2 input.sk-toggleable__control:checked~div.sk-toggleable__content {max-height: 200px;max-width: 100%;overflow: auto;}#sk-container-id-2 input.sk-toggleable__control:checked~label.sk-toggleable__label-arrow:before {content: \"▾\";}#sk-container-id-2 div.sk-estimator input.sk-toggleable__control:checked~label.sk-toggleable__label {background-color: #d4ebff;}#sk-container-id-2 div.sk-label input.sk-toggleable__control:checked~label.sk-toggleable__label {background-color: #d4ebff;}#sk-container-id-2 input.sk-hidden--visually {border: 0;clip: rect(1px 1px 1px 1px);clip: rect(1px, 1px, 1px, 1px);height: 1px;margin: -1px;overflow: hidden;padding: 0;position: absolute;width: 1px;}#sk-container-id-2 div.sk-estimator {font-family: monospace;background-color: #f0f8ff;border: 1px dotted black;border-radius: 0.25em;box-sizing: border-box;margin-bottom: 0.5em;}#sk-container-id-2 div.sk-estimator:hover {background-color: #d4ebff;}#sk-container-id-2 div.sk-parallel-item::after {content: \"\";width: 100%;border-bottom: 1px solid gray;flex-grow: 1;}#sk-container-id-2 div.sk-label:hover label.sk-toggleable__label {background-color: #d4ebff;}#sk-container-id-2 div.sk-serial::before {content: \"\";position: absolute;border-left: 1px solid gray;box-sizing: border-box;top: 0;bottom: 0;left: 50%;z-index: 0;}#sk-container-id-2 div.sk-serial {display: flex;flex-direction: column;align-items: center;background-color: white;padding-right: 0.2em;padding-left: 0.2em;position: relative;}#sk-container-id-2 div.sk-item {position: relative;z-index: 1;}#sk-container-id-2 div.sk-parallel {display: flex;align-items: stretch;justify-content: center;background-color: white;position: relative;}#sk-container-id-2 div.sk-item::before, #sk-container-id-2 div.sk-parallel-item::before {content: \"\";position: absolute;border-left: 1px solid gray;box-sizing: border-box;top: 0;bottom: 0;left: 50%;z-index: -1;}#sk-container-id-2 div.sk-parallel-item {display: flex;flex-direction: column;z-index: 1;position: relative;background-color: white;}#sk-container-id-2 div.sk-parallel-item:first-child::after {align-self: flex-end;width: 50%;}#sk-container-id-2 div.sk-parallel-item:last-child::after {align-self: flex-start;width: 50%;}#sk-container-id-2 div.sk-parallel-item:only-child::after {width: 0;}#sk-container-id-2 div.sk-dashed-wrapped {border: 1px dashed gray;margin: 0 0.4em 0.5em 0.4em;box-sizing: border-box;padding-bottom: 0.4em;background-color: white;}#sk-container-id-2 div.sk-label label {font-family: monospace;font-weight: bold;display: inline-block;line-height: 1.2em;}#sk-container-id-2 div.sk-label-container {text-align: center;}#sk-container-id-2 div.sk-container {/* jupyter's `normalize.less` sets `[hidden] { display: none; }` but bootstrap.min.css set `[hidden] { display: none !important; }` so we also need the `!important` here to be able to override the default hidden behavior on the sphinx rendered scikit-learn.org. See: https://github.com/scikit-learn/scikit-learn/issues/21755 */display: inline-block !important;position: relative;}#sk-container-id-2 div.sk-text-repr-fallback {display: none;}</style><div id=\"sk-container-id-2\" class=\"sk-top-container\"><div class=\"sk-text-repr-fallback\"><pre>LogisticRegression()</pre><b>In a Jupyter environment, please rerun this cell to show the HTML representation or trust the notebook. <br />On GitHub, the HTML representation is unable to render, please try loading this page with nbviewer.org.</b></div><div class=\"sk-container\" hidden><div class=\"sk-item\"><div class=\"sk-estimator sk-toggleable\"><input class=\"sk-toggleable__control sk-hidden--visually\" id=\"sk-estimator-id-2\" type=\"checkbox\" checked><label for=\"sk-estimator-id-2\" class=\"sk-toggleable__label sk-toggleable__label-arrow\">LogisticRegression</label><div class=\"sk-toggleable__content\"><pre>LogisticRegression()</pre></div></div></div></div></div>"
      ],
      "text/plain": [
       "LogisticRegression()"
      ]
     },
     "execution_count": 26,
     "metadata": {},
     "output_type": "execute_result"
    }
   ],
   "source": [
    "model = LogisticRegression()\n",
    "model.fit(X_train, y_train)"
   ]
  },
  {
   "cell_type": "code",
   "execution_count": 27,
   "metadata": {
    "scrolled": true
   },
   "outputs": [
    {
     "name": "stdout",
     "output_type": "stream",
     "text": [
      "Accuracy: 0.9155485398579322\n",
      "Precision: 0.9375\n",
      "Recall: 0.892018779342723\n",
      "F1 Score: 0.9141940657578187\n"
     ]
    }
   ],
   "source": [
    "y_pred = model.predict(X_test)\n",
    "print(\"Accuracy:\", accuracy_score(y_test, y_pred))\n",
    "print(\"Precision:\", precision_score(y_test, y_pred, pos_label='REAL'))\n",
    "print(\"Recall:\", recall_score(y_test, y_pred, pos_label='REAL'))\n",
    "print(\"F1 Score:\", f1_score(y_test, y_pred, pos_label='REAL'))\n"
   ]
  },
  {
   "cell_type": "code",
   "execution_count": 28,
   "metadata": {},
   "outputs": [
    {
     "name": "stdout",
     "output_type": "stream",
     "text": [
      "Accuracy: 0.9155485398579322\n",
      "Precision: 0.8952959028831563\n",
      "Recall: 0.9394904458598726\n",
      "F1 Score: 0.916860916860917\n"
     ]
    }
   ],
   "source": [
    "y_pred = model.predict(X_test)\n",
    "print(\"Accuracy:\", accuracy_score(y_test, y_pred))\n",
    "print(\"Precision:\", precision_score(y_test, y_pred, pos_label='FAKE'))\n",
    "print(\"Recall:\", recall_score(y_test, y_pred, pos_label='FAKE'))\n",
    "print(\"F1 Score:\", f1_score(y_test, y_pred, pos_label='FAKE'))"
   ]
  },
  {
   "cell_type": "code",
   "execution_count": 30,
   "metadata": {},
   "outputs": [
    {
     "data": {
      "text/plain": [
       "['logistic_model.joblib']"
      ]
     },
     "execution_count": 30,
     "metadata": {},
     "output_type": "execute_result"
    }
   ],
   "source": [
    "joblib.dump(model, 'logistic_model.joblib')"
   ]
  }
 ],
 "metadata": {
  "colab": {
   "provenance": []
  },
  "kernelspec": {
   "display_name": "Python 3 (ipykernel)",
   "language": "python",
   "name": "python3"
  },
  "language_info": {
   "codemirror_mode": {
    "name": "ipython",
    "version": 3
   },
   "file_extension": ".py",
   "mimetype": "text/x-python",
   "name": "python",
   "nbconvert_exporter": "python",
   "pygments_lexer": "ipython3",
   "version": "3.11.7"
  }
 },
 "nbformat": 4,
 "nbformat_minor": 1
}
